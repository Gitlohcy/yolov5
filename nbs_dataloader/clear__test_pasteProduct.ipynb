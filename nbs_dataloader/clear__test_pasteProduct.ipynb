{
 "cells": [
  {
   "cell_type": "code",
   "execution_count": null,
   "metadata": {},
   "outputs": [],
   "source": [
    "import sys\n",
    "from pathlib import Path\n",
    "\n",
    "home = Path.home()\n",
    "base = home/'Documents/GitHub/yolov5'\n",
    "sys.path.append(str(base))\n",
    "\n",
    "from utils.yolo_utils.general import *\n",
    "import utils.yolo_utils.imgaug_util as iu\n",
    "import utils.yolo_utils.bbox_util as bu\n",
    "import utils.yolo_utils.file_util as fu\n",
    "import utils.yolo_utils.plot_util as pu"
   ]
  },
  {
   "cell_type": "code",
   "execution_count": null,
   "metadata": {},
   "outputs": [],
   "source": [
    "dpath = Path('/Users/lohcy/Documents/AI_stuffs/datasets/temp/rpc_640_sample')\n",
    "tpath = dpath/'train'\n",
    "tl_path = tpath/'labels'\n",
    "ti_path = tpath/'images'\n",
    "\n",
    "vpath = dpath/'val'\n",
    "vl_path = vpath/'labels'\n",
    "vi_path = vpath/'images'"
   ]
  },
  {
   "cell_type": "code",
   "execution_count": null,
   "metadata": {},
   "outputs": [],
   "source": [
    "bi_path = home/'Documents/AI_stuffs/datasets/coco128/images/train2017'\n",
    "fi_path = home/'.darwin/datasets/silkronai/lightbox_china_1/images/train'"
   ]
  },
  {
   "cell_type": "markdown",
   "metadata": {},
   "source": [
    "# PasteProduct"
   ]
  },
  {
   "cell_type": "markdown",
   "metadata": {},
   "source": [
    "## yaml"
   ]
  },
  {
   "cell_type": "code",
   "execution_count": null,
   "metadata": {},
   "outputs": [],
   "source": [
    "%%writefile ../utils/paste_data.yaml\n",
    "back_img: /Users/lohcy/Documents/AI_stuffs/datasets/coco128/images/train2017\n",
    "# back_img: '../test_back_img_paths.txt'\n",
    "front_img: /Users/lohcy/.darwin/datasets/silkronai/lightbox_china_1/images/train\n",
    "coco_path: /Users/lohcy/.darwin/datasets/silkronai/lightbox_china_1/releases/clean_coco.json\n",
    "\n",
    "# img_dest: ./img_dest\n",
    "# lbl_dest: ./lbl_dest"
   ]
  },
  {
   "cell_type": "code",
   "execution_count": null,
   "metadata": {},
   "outputs": [],
   "source": [
    "%%writefile ../utils/paste_hyp.yaml\n",
    "#     chance, (min, max)\n",
    "hsv_h: [0.8, [-4, 4]]   \n",
    "hsv_s: [0.8, [-20, 80]]\n",
    "hsv_v: [0.8, [-30, 60]]\n",
    "\n",
    "rotate: [-360, 360]   # (min, max)\n",
    "overlap_thereshold: 0.75  # thereshold to remove overlap bbox\n",
    "depth_min_size: 0.3   # minimum size depth level resize\n",
    "batch_resize: [0.4, 0.8]  # (min, max)\n",
    "class_aug: 0.6  # chance for class level optional augmentation\n",
    "motion_blur: [0.7, [5,20], [0, 360]]  #chance, kernel_size, angle\n",
    "\n",
    "max_paste_n: 10   # maximum num of small images to paste in background\n",
    "paste_dist: [4, 4.5, 3.5, 3, 1, 1, 1, 1, 1, 1]  # weighted paste_n distribution\n",
    "                  \n",
    "\n"
   ]
  },
  {
   "cell_type": "markdown",
   "metadata": {},
   "source": [
    "## code"
   ]
  },
  {
   "cell_type": "code",
   "execution_count": null,
   "metadata": {},
   "outputs": [],
   "source": [
    "%autoreload\n",
    "\n",
    "from utils.paste_product import PasteProduct\n",
    "from utils.paste_product import create_paste_instance"
   ]
  },
  {
   "cell_type": "code",
   "execution_count": null,
   "metadata": {},
   "outputs": [],
   "source": [
    "paste_data = base/'utils'/'paste_data.yaml'\n",
    "paste_hyp = base/'utils'/'paste_hyp.yaml'\n",
    "\n",
    "pp = create_paste_instance(paste_data, paste_hyp, cache='none')"
   ]
  },
  {
   "cell_type": "code",
   "execution_count": null,
   "metadata": {},
   "outputs": [],
   "source": [
    "pp.show_next_batch(5)"
   ]
  },
  {
   "cell_type": "markdown",
   "metadata": {},
   "source": [
    "# load datas\n",
    "- pasted_imgs \n",
    "    - train\n",
    "    - val\n",
    "    \n",
    "- back_img_path\n",
    "- front_img_path"
   ]
  },
  {
   "cell_type": "code",
   "execution_count": null,
   "metadata": {},
   "outputs": [],
   "source": [
    "gen_path = home/'Documents/AI_stuffs/datasets/generated'"
   ]
  },
  {
   "cell_type": "code",
   "execution_count": null,
   "metadata": {},
   "outputs": [],
   "source": [
    "len(pp.back_fnames)"
   ]
  },
  {
   "cell_type": "code",
   "execution_count": null,
   "metadata": {},
   "outputs": [],
   "source": [
    "# train\n",
    "train_imgs, train_bboxes = pp.generate(6)\n",
    "\n",
    "# val\n",
    "pp.set_back_fnames(str(vi_path))\n",
    "val_imgs, val_bboxes = pp.generate(6)\n",
    "\n",
    "pu.show_batch(train_imgs)\n",
    "pu.show_batch(val_imgs)"
   ]
  },
  {
   "cell_type": "code",
   "execution_count": null,
   "metadata": {},
   "outputs": [],
   "source": [
    "'''save generated images'''\n",
    "train_path = gen_path/'train'\n",
    "val_path = gen_path/'val'\n",
    "\n",
    "# train\n",
    "pp.set_back_fnames(bi_path)\n",
    "pp.gen_then_save(6, train_path/'images', train_path/'labels')\n",
    "\n",
    "# val\n",
    "pp.set_back_fnames(vi_path)\n",
    "pp.gen_then_save(6, val_path/'images', val_path/'labels')"
   ]
  },
  {
   "cell_type": "code",
   "execution_count": null,
   "metadata": {},
   "outputs": [],
   "source": [
    "train_img_paths = pd.Series((train_path/'images').ls())\n",
    "n = 6\n",
    "\n",
    "print('train_imgs:')\n",
    "pu.show_batch(\n",
    "    [imageio.imread(p) for p in train_img_paths.sample(n)]\n",
    ")"
   ]
  },
  {
   "cell_type": "code",
   "execution_count": null,
   "metadata": {},
   "outputs": [],
   "source": [
    "val_img_paths = pd.Series((val_path/'images').ls())\n",
    "n = 6\n",
    "\n",
    "print('val_imgs:')\n",
    "pu.show_batch(\n",
    "    [imageio.imread(p) for p in val_img_paths.sample(n)]\n",
    ")"
   ]
  }
 ],
 "metadata": {
  "kernelspec": {
   "display_name": "Python 3",
   "language": "python",
   "name": "python3"
  },
  "language_info": {
   "codemirror_mode": {
    "name": "ipython",
    "version": 3
   },
   "file_extension": ".py",
   "mimetype": "text/x-python",
   "name": "python",
   "nbconvert_exporter": "python",
   "pygments_lexer": "ipython3",
   "version": "3.8.5"
  },
  "toc": {
   "base_numbering": 1,
   "nav_menu": {},
   "number_sections": true,
   "sideBar": true,
   "skip_h1_title": false,
   "title_cell": "Table of Contents",
   "title_sidebar": "Contents",
   "toc_cell": false,
   "toc_position": {},
   "toc_section_display": true,
   "toc_window_display": false
  }
 },
 "nbformat": 4,
 "nbformat_minor": 4
}
