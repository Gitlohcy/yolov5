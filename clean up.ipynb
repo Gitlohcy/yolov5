{
 "cells": [
  {
   "cell_type": "code",
   "execution_count": 1,
   "metadata": {},
   "outputs": [],
   "source": [
    "import numpy as np\n",
    "import cv2\n",
    "from pathlib import Path\n",
    "import pandas as pd"
   ]
  },
  {
   "cell_type": "code",
   "execution_count": 2,
   "metadata": {},
   "outputs": [],
   "source": [
    "from itertools import chain\n",
    "from shutil import copyfile\n",
    "from pprint import pprint\n",
    "from tqdm.notebook import tqdm\n",
    "from collections import defaultdict\n",
    "from pdb import set_trace\n",
    "from typing import *\n",
    "from functools import partial"
   ]
  },
  {
   "cell_type": "code",
   "execution_count": 3,
   "metadata": {},
   "outputs": [],
   "source": [
    "import imageio\n",
    "import imgaug as ia\n",
    "from imgaug.augmentables.bbs import BoundingBox, BoundingBoxesOnImage"
   ]
  },
  {
   "cell_type": "code",
   "execution_count": 4,
   "metadata": {},
   "outputs": [
    {
     "name": "stdout",
     "output_type": "stream",
     "text": [
      "/notebooks/nbs/yolov5\n"
     ]
    }
   ],
   "source": [
    "%cd ..\n",
    "from my_utils.general import *"
   ]
  },
  {
   "cell_type": "code",
   "execution_count": 5,
   "metadata": {
    "scrolled": true
   },
   "outputs": [
    {
     "name": "stdout",
     "output_type": "stream",
     "text": [
      "\u001b[0m\u001b[01;34m__pycache__\u001b[0m/  copy_by_df.py  dataset_util.py  dict_to_df.py  general.py\r\n"
     ]
    }
   ],
   "source": [
    "%ls my_utils"
   ]
  },
  {
   "cell_type": "code",
   "execution_count": 6,
   "metadata": {
    "scrolled": true
   },
   "outputs": [],
   "source": [
    "%load_ext autoreload\n",
    "%autoreload 2\n",
    "\n",
    "from my_utils.dataset_util import images_from_l3_dir__top_1img\n",
    "import my_utils.dict_to_df as dtdf\n",
    "# from my_utils.copy_by_df import create_img_lbl_dest, train_df_to_image_label"
   ]
  },
  {
   "cell_type": "code",
   "execution_count": 7,
   "metadata": {},
   "outputs": [],
   "source": [
    "def set_path(is_kaggle):\n",
    "    \n",
    "    if is_kaggle:\n",
    "        kaggle = Path('/kaggle')\n",
    "\n",
    "    else:\n",
    "        kaggle = Path('/storage/kaggle')\n",
    "\n",
    "    in_path = kaggle/'input'\n",
    "    out_path = kaggle/'working'\n",
    "    \n",
    "    return kaggle, in_path, out_path"
   ]
  },
  {
   "cell_type": "code",
   "execution_count": 8,
   "metadata": {},
   "outputs": [],
   "source": [
    "kaggle, in_path, out_path = set_path(False)"
   ]
  },
  {
   "cell_type": "code",
   "execution_count": 9,
   "metadata": {},
   "outputs": [],
   "source": [
    "product_id_dict = {\n",
    "    'hundred_plus': 0,\n",
    "    'kikapoo': 1,\n",
    "    'cincau': 2,\n",
    "    'milo_nuggets': 3,\n",
    "    'mimi': 4,\n",
    "    'maggi': 5,\n",
    "    'soya': 6,\n",
    "    'jvhua': 7,\n",
    "    'nescafe': 8,\n",
    "    'himalaya': 9\n",
    "}"
   ]
  },
  {
   "cell_type": "code",
   "execution_count": 17,
   "metadata": {},
   "outputs": [],
   "source": [
    "def load_util(filename):\n",
    "    f_path = f\"my_utils/{filename}\"\n",
    "    %load {f_path}\n"
   ]
  },
  {
   "cell_type": "markdown",
   "metadata": {},
   "source": [
    "# start process"
   ]
  },
  {
   "cell_type": "code",
   "execution_count": 18,
   "metadata": {},
   "outputs": [],
   "source": [
    "kaggle, in_path, out_path = set_path(False)"
   ]
  },
  {
   "cell_type": "code",
   "execution_count": 19,
   "metadata": {},
   "outputs": [],
   "source": [
    "s1_path = in_path/'ten-pd-spin-1'\n",
    "f_path = in_path/'ten_products_fridge'"
   ]
  },
  {
   "cell_type": "code",
   "execution_count": 20,
   "metadata": {},
   "outputs": [
    {
     "data": {
      "text/plain": [
       "[PosixPath('/storage/kaggle/input/ten-pd-spin-1/predict_labels'),\n",
       " PosixPath('/storage/kaggle/input/ten-pd-spin-1/images')]"
      ]
     },
     "execution_count": 20,
     "metadata": {},
     "output_type": "execute_result"
    }
   ],
   "source": [
    "ls(s1_path)"
   ]
  },
  {
   "cell_type": "code",
   "execution_count": 21,
   "metadata": {},
   "outputs": [],
   "source": [
    "top1_s1_imgs = images_from_l3_dir__top_1img(s1_path/'images'/'images', 1)\n",
    "top1_s1_lbls = {pd.name: ls(pd) for pd in ls(s1_path/'predict_labels'/'predict_labels')}"
   ]
  },
  {
   "cell_type": "code",
   "execution_count": 22,
   "metadata": {},
   "outputs": [],
   "source": [
    "f_imgs = {pd.name: ls(pd) for pd in ls(f_path/'images')}\n",
    "f_lbls = {pd.name: ls(pd) for pd in ls(f_path/'draw_and_predict_label') if pd.name != 'labels'}"
   ]
  },
  {
   "cell_type": "code",
   "execution_count": 23,
   "metadata": {},
   "outputs": [],
   "source": [
    "rename_keys = {\n",
    "    'kickapoo': 'kikapoo',\n",
    "    '100Plus': 'hundred_plus',\n",
    "    'milonugget': 'milo_nuggets',\n",
    "    'nutriwellcincau': 'cincau',\n",
    "    'hot_cup_maggi': 'maggi',\n",
    "    'himalaya_salt_candy': 'himalaya',\n",
    "    'chrysanthemum': 'jvhua'\n",
    "}\n",
    "\n",
    "top1_s1_imgs = rename_dict(top1_s1_imgs, rename_keys)"
   ]
  },
  {
   "cell_type": "code",
   "execution_count": 24,
   "metadata": {},
   "outputs": [],
   "source": [
    "rename_keys = {\n",
    "    'kickapoo': 'kikapoo',\n",
    "    '100Plus': 'hundred_plus',\n",
    "    'MiloNuggets': 'milo_nuggets',\n",
    "    'nutriwellcincau': 'cincau',\n",
    "}\n",
    "\n",
    "f_imgs = rename_dict(f_imgs, rename_keys)"
   ]
  },
  {
   "cell_type": "code",
   "execution_count": 25,
   "metadata": {},
   "outputs": [
    {
     "data": {
      "text/plain": [
       "[PosixPath('/storage/kaggle/input/ten-pd-spin-1/predict_labels'),\n",
       " PosixPath('/storage/kaggle/input/ten-pd-spin-1/images')]"
      ]
     },
     "execution_count": 25,
     "metadata": {},
     "output_type": "execute_result"
    }
   ],
   "source": [
    "ls(kaggle/'input'/'ten-pd-spin-1')"
   ]
  },
  {
   "cell_type": "code",
   "execution_count": 123,
   "metadata": {},
   "outputs": [
    {
     "name": "stdout",
     "output_type": "stream",
     "text": [
      "top1_s1\n",
      "---------------\n"
     ]
    },
    {
     "data": {
      "text/html": [
       "<div>\n",
       "<style scoped>\n",
       "    .dataframe tbody tr th:only-of-type {\n",
       "        vertical-align: middle;\n",
       "    }\n",
       "\n",
       "    .dataframe tbody tr th {\n",
       "        vertical-align: top;\n",
       "    }\n",
       "\n",
       "    .dataframe thead th {\n",
       "        text-align: right;\n",
       "    }\n",
       "</style>\n",
       "<table border=\"1\" class=\"dataframe\">\n",
       "  <thead>\n",
       "    <tr style=\"text-align: right;\">\n",
       "      <th></th>\n",
       "      <th>cincau</th>\n",
       "      <th>himalaya</th>\n",
       "      <th>hundred_plus</th>\n",
       "      <th>jvhua</th>\n",
       "      <th>kikapoo</th>\n",
       "      <th>maggi</th>\n",
       "      <th>milo_nuggets</th>\n",
       "      <th>mimi</th>\n",
       "      <th>nescafe</th>\n",
       "      <th>soya</th>\n",
       "    </tr>\n",
       "  </thead>\n",
       "  <tbody>\n",
       "    <tr>\n",
       "      <th>0</th>\n",
       "      <td>161</td>\n",
       "      <td>161</td>\n",
       "      <td>162</td>\n",
       "      <td>161</td>\n",
       "      <td>161</td>\n",
       "      <td>161</td>\n",
       "      <td>161</td>\n",
       "      <td>161</td>\n",
       "      <td>161</td>\n",
       "      <td>161</td>\n",
       "    </tr>\n",
       "    <tr>\n",
       "      <th>1</th>\n",
       "      <td>200</td>\n",
       "      <td>195</td>\n",
       "      <td>201</td>\n",
       "      <td>200</td>\n",
       "      <td>200</td>\n",
       "      <td>200</td>\n",
       "      <td>200</td>\n",
       "      <td>200</td>\n",
       "      <td>200</td>\n",
       "      <td>200</td>\n",
       "    </tr>\n",
       "  </tbody>\n",
       "</table>\n",
       "</div>"
      ],
      "text/plain": [
       "   cincau  himalaya  hundred_plus  jvhua  kikapoo  maggi  milo_nuggets  mimi  \\\n",
       "0     161       161           162    161      161    161           161   161   \n",
       "1     200       195           201    200      200    200           200   200   \n",
       "\n",
       "   nescafe  soya  \n",
       "0      161   161  \n",
       "1      200   200  "
      ]
     },
     "metadata": {},
     "output_type": "display_data"
    },
    {
     "name": "stdout",
     "output_type": "stream",
     "text": [
      "fridge\n",
      "---------------\n"
     ]
    },
    {
     "data": {
      "text/html": [
       "<div>\n",
       "<style scoped>\n",
       "    .dataframe tbody tr th:only-of-type {\n",
       "        vertical-align: middle;\n",
       "    }\n",
       "\n",
       "    .dataframe tbody tr th {\n",
       "        vertical-align: top;\n",
       "    }\n",
       "\n",
       "    .dataframe thead th {\n",
       "        text-align: right;\n",
       "    }\n",
       "</style>\n",
       "<table border=\"1\" class=\"dataframe\">\n",
       "  <thead>\n",
       "    <tr style=\"text-align: right;\">\n",
       "      <th></th>\n",
       "      <th>cincau</th>\n",
       "      <th>himalaya</th>\n",
       "      <th>hundred_plus</th>\n",
       "      <th>jvhua</th>\n",
       "      <th>kikapoo</th>\n",
       "      <th>maggi</th>\n",
       "      <th>milo_nuggets</th>\n",
       "      <th>mimi</th>\n",
       "      <th>nescafe</th>\n",
       "      <th>soya</th>\n",
       "    </tr>\n",
       "  </thead>\n",
       "  <tbody>\n",
       "    <tr>\n",
       "      <th>0</th>\n",
       "      <td>400</td>\n",
       "      <td>800</td>\n",
       "      <td>400</td>\n",
       "      <td>800</td>\n",
       "      <td>400</td>\n",
       "      <td>800</td>\n",
       "      <td>400</td>\n",
       "      <td>800</td>\n",
       "      <td>800</td>\n",
       "      <td>800</td>\n",
       "    </tr>\n",
       "    <tr>\n",
       "      <th>1</th>\n",
       "      <td>371</td>\n",
       "      <td>672</td>\n",
       "      <td>395</td>\n",
       "      <td>777</td>\n",
       "      <td>370</td>\n",
       "      <td>777</td>\n",
       "      <td>399</td>\n",
       "      <td>784</td>\n",
       "      <td>754</td>\n",
       "      <td>767</td>\n",
       "    </tr>\n",
       "  </tbody>\n",
       "</table>\n",
       "</div>"
      ],
      "text/plain": [
       "   cincau  himalaya  hundred_plus  jvhua  kikapoo  maggi  milo_nuggets  mimi  \\\n",
       "0     400       800           400    800      400    800           400   800   \n",
       "1     371       672           395    777      370    777           399   784   \n",
       "\n",
       "   nescafe  soya  \n",
       "0      800   800  \n",
       "1      754   767  "
      ]
     },
     "metadata": {},
     "output_type": "display_data"
    }
   ],
   "source": [
    "print('top1_s1')\n",
    "print('-'*15)\n",
    "pd_len_dict([top1_s1_imgs, top1_s1_lbls])\n",
    "print('fridge')\n",
    "print('-'*15)\n",
    "pd_len_dict([f_imgs, f_lbls])"
   ]
  },
  {
   "cell_type": "markdown",
   "metadata": {},
   "source": [
    "# dict to df"
   ]
  },
  {
   "cell_type": "code",
   "execution_count": 28,
   "metadata": {},
   "outputs": [],
   "source": [
    "yolo_csv_column = ['class_id', 'x_center', 'y_center', 'width', 'height']\n",
    "column_name = [*yolo_csv_column, 'file_name']"
   ]
  },
  {
   "cell_type": "code",
   "execution_count": 124,
   "metadata": {},
   "outputs": [],
   "source": [
    "f_imgs_df = dtdf.image_dict_to_df(f_imgs)\n",
    "f_lbls_df = {class_name: dtdf.label_list_toDf(lbl_list, column_name, class_name, product_id_dict) \n",
    "                  for class_name, lbl_list in f_lbls.items()}"
   ]
  },
  {
   "cell_type": "code",
   "execution_count": 125,
   "metadata": {},
   "outputs": [],
   "source": [
    "top1_s1_imgs_df = dtdf.image_dict_to_df(top1_s1_imgs)\n",
    "top1_s1_lbls_df = {class_name: dtdf.label_list_toDf(lbl_list, column_name, class_name, product_id_dict) \n",
    "                  for class_name, lbl_list in top1_s1_lbls.items()}"
   ]
  },
  {
   "cell_type": "code",
   "execution_count": 131,
   "metadata": {
    "scrolled": true
   },
   "outputs": [],
   "source": [
    "if is_key_match(top1_s1_imgs_df, top1_s1_lbls_df):\n",
    "    top1_s1_train_joined_df = dtdf.join_img_and_lbl_df(top1_s1_imgs_df, top1_s1_lbls_df)\n",
    "else:\n",
    "    print('key not match!')\n",
    "    \n",
    "\n",
    "if is_key_match(f_imgs_df, f_lbls_df):\n",
    "    f_val_joined_df = dtdf.join_img_and_lbl_df(f_imgs_df, f_lbls_df)\n",
    "else:\n",
    "    print('key not match!')\n",
    "    \n",
    "    "
   ]
  },
  {
   "cell_type": "code",
   "execution_count": 132,
   "metadata": {},
   "outputs": [
    {
     "data": {
      "text/html": [
       "<div>\n",
       "<style scoped>\n",
       "    .dataframe tbody tr th:only-of-type {\n",
       "        vertical-align: middle;\n",
       "    }\n",
       "\n",
       "    .dataframe tbody tr th {\n",
       "        vertical-align: top;\n",
       "    }\n",
       "\n",
       "    .dataframe thead th {\n",
       "        text-align: right;\n",
       "    }\n",
       "</style>\n",
       "<table border=\"1\" class=\"dataframe\">\n",
       "  <thead>\n",
       "    <tr style=\"text-align: right;\">\n",
       "      <th></th>\n",
       "      <th>cincau</th>\n",
       "      <th>himalaya</th>\n",
       "      <th>hundred_plus</th>\n",
       "      <th>jvhua</th>\n",
       "      <th>kikapoo</th>\n",
       "      <th>maggi</th>\n",
       "      <th>milo_nuggets</th>\n",
       "      <th>mimi</th>\n",
       "      <th>nescafe</th>\n",
       "      <th>soya</th>\n",
       "    </tr>\n",
       "  </thead>\n",
       "  <tbody>\n",
       "    <tr>\n",
       "      <th>0</th>\n",
       "      <td>161</td>\n",
       "      <td>161</td>\n",
       "      <td>162</td>\n",
       "      <td>161</td>\n",
       "      <td>161</td>\n",
       "      <td>161</td>\n",
       "      <td>161</td>\n",
       "      <td>161</td>\n",
       "      <td>161</td>\n",
       "      <td>161</td>\n",
       "    </tr>\n",
       "    <tr>\n",
       "      <th>1</th>\n",
       "      <td>200</td>\n",
       "      <td>195</td>\n",
       "      <td>201</td>\n",
       "      <td>200</td>\n",
       "      <td>200</td>\n",
       "      <td>200</td>\n",
       "      <td>200</td>\n",
       "      <td>200</td>\n",
       "      <td>200</td>\n",
       "      <td>200</td>\n",
       "    </tr>\n",
       "    <tr>\n",
       "      <th>2</th>\n",
       "      <td>161</td>\n",
       "      <td>156</td>\n",
       "      <td>162</td>\n",
       "      <td>161</td>\n",
       "      <td>161</td>\n",
       "      <td>161</td>\n",
       "      <td>161</td>\n",
       "      <td>161</td>\n",
       "      <td>161</td>\n",
       "      <td>161</td>\n",
       "    </tr>\n",
       "  </tbody>\n",
       "</table>\n",
       "</div>"
      ],
      "text/plain": [
       "   cincau  himalaya  hundred_plus  jvhua  kikapoo  maggi  milo_nuggets  mimi  \\\n",
       "0     161       161           162    161      161    161           161   161   \n",
       "1     200       195           201    200      200    200           200   200   \n",
       "2     161       156           162    161      161    161           161   161   \n",
       "\n",
       "   nescafe  soya  \n",
       "0      161   161  \n",
       "1      200   200  \n",
       "2      161   161  "
      ]
     },
     "metadata": {},
     "output_type": "display_data"
    },
    {
     "name": "stdout",
     "output_type": "stream",
     "text": [
      "fridge\n",
      "-------------------------\n"
     ]
    },
    {
     "data": {
      "text/html": [
       "<div>\n",
       "<style scoped>\n",
       "    .dataframe tbody tr th:only-of-type {\n",
       "        vertical-align: middle;\n",
       "    }\n",
       "\n",
       "    .dataframe tbody tr th {\n",
       "        vertical-align: top;\n",
       "    }\n",
       "\n",
       "    .dataframe thead th {\n",
       "        text-align: right;\n",
       "    }\n",
       "</style>\n",
       "<table border=\"1\" class=\"dataframe\">\n",
       "  <thead>\n",
       "    <tr style=\"text-align: right;\">\n",
       "      <th></th>\n",
       "      <th>cincau</th>\n",
       "      <th>himalaya</th>\n",
       "      <th>hundred_plus</th>\n",
       "      <th>jvhua</th>\n",
       "      <th>kikapoo</th>\n",
       "      <th>maggi</th>\n",
       "      <th>milo_nuggets</th>\n",
       "      <th>mimi</th>\n",
       "      <th>nescafe</th>\n",
       "      <th>soya</th>\n",
       "    </tr>\n",
       "  </thead>\n",
       "  <tbody>\n",
       "    <tr>\n",
       "      <th>0</th>\n",
       "      <td>400</td>\n",
       "      <td>800</td>\n",
       "      <td>400</td>\n",
       "      <td>800</td>\n",
       "      <td>400</td>\n",
       "      <td>800</td>\n",
       "      <td>400</td>\n",
       "      <td>800</td>\n",
       "      <td>800</td>\n",
       "      <td>800</td>\n",
       "    </tr>\n",
       "    <tr>\n",
       "      <th>1</th>\n",
       "      <td>371</td>\n",
       "      <td>672</td>\n",
       "      <td>395</td>\n",
       "      <td>778</td>\n",
       "      <td>370</td>\n",
       "      <td>777</td>\n",
       "      <td>399</td>\n",
       "      <td>784</td>\n",
       "      <td>754</td>\n",
       "      <td>767</td>\n",
       "    </tr>\n",
       "    <tr>\n",
       "      <th>2</th>\n",
       "      <td>371</td>\n",
       "      <td>672</td>\n",
       "      <td>395</td>\n",
       "      <td>778</td>\n",
       "      <td>370</td>\n",
       "      <td>777</td>\n",
       "      <td>399</td>\n",
       "      <td>784</td>\n",
       "      <td>754</td>\n",
       "      <td>767</td>\n",
       "    </tr>\n",
       "  </tbody>\n",
       "</table>\n",
       "</div>"
      ],
      "text/plain": [
       "   cincau  himalaya  hundred_plus  jvhua  kikapoo  maggi  milo_nuggets  mimi  \\\n",
       "0     400       800           400    800      400    800           400   800   \n",
       "1     371       672           395    778      370    777           399   784   \n",
       "2     371       672           395    778      370    777           399   784   \n",
       "\n",
       "   nescafe  soya  \n",
       "0      800   800  \n",
       "1      754   767  \n",
       "2      754   767  "
      ]
     },
     "metadata": {},
     "output_type": "display_data"
    }
   ],
   "source": [
    "pd_len_dict([top1_s1_imgs_df, top1_s1_lbls_df, top1_s1_train_joined_df])\n",
    "\n",
    "print('fridge')\n",
    "print('-'*25)\n",
    "pd_len_dict([f_imgs_df, f_lbls_df, f_val_joined_df])"
   ]
  },
  {
   "cell_type": "markdown",
   "metadata": {},
   "source": [
    "# copy img and save label"
   ]
  },
  {
   "cell_type": "code",
   "execution_count": 32,
   "metadata": {
    "scrolled": true
   },
   "outputs": [],
   "source": [
    "import my_utils.copy_by_df as cp_df"
   ]
  },
  {
   "cell_type": "code",
   "execution_count": 33,
   "metadata": {
    "scrolled": true
   },
   "outputs": [
    {
     "data": {
      "text/plain": [
       "[PosixPath('/storage/kaggle/working/upload'),\n",
       " PosixPath('/storage/kaggle/working/runs'),\n",
       " PosixPath('/storage/kaggle/working/top1_s1')]"
      ]
     },
     "execution_count": 33,
     "metadata": {},
     "output_type": "execute_result"
    }
   ],
   "source": [
    "images_dest = kaggle/'working/top1_s1/images'\n",
    "label_dest = kaggle/'working/top1_s1/labels'\n",
    "\n",
    "cp_df.create_img_lbl_dest(images_dest, label_dest)\n",
    "ls(out_path)"
   ]
  },
  {
   "cell_type": "code",
   "execution_count": 34,
   "metadata": {},
   "outputs": [
    {
     "data": {
      "application/vnd.jupyter.widget-view+json": {
       "model_id": "e018725fd097402a83596aeb536b6775",
       "version_major": 2,
       "version_minor": 0
      },
      "text/plain": [
       "HBox(children=(HTML(value=''), FloatProgress(value=0.0, max=10.0), HTML(value='')))"
      ]
     },
     "metadata": {},
     "output_type": "display_data"
    },
    {
     "name": "stdout",
     "output_type": "stream",
     "text": [
      "\n"
     ]
    }
   ],
   "source": [
    "'''write label and copy images for (train top1_s1)'''\n",
    "\n",
    "for k, df in tqdm(top1_s1_train_joined_df.items()):\n",
    "    cp_df.train_df_to_image_label(df, label_dest, images_dest)"
   ]
  },
  {
   "cell_type": "code",
   "execution_count": 133,
   "metadata": {},
   "outputs": [
    {
     "data": {
      "application/vnd.jupyter.widget-view+json": {
       "model_id": "6912916dc6ad4abaa3025eab86f81b72",
       "version_major": 2,
       "version_minor": 0
      },
      "text/plain": [
       "HBox(children=(HTML(value=''), FloatProgress(value=0.0, max=10.0), HTML(value='')))"
      ]
     },
     "metadata": {},
     "output_type": "display_data"
    },
    {
     "name": "stdout",
     "output_type": "stream",
     "text": [
      "\n"
     ]
    }
   ],
   "source": [
    "for k, df in tqdm(f_val_joined_df.items()):\n",
    "    cp_df.val_df_to_image_label(df, label_dest, images_dest, sample_size=0.3)\n",
    "    "
   ]
  },
  {
   "cell_type": "code",
   "execution_count": 128,
   "metadata": {
    "scrolled": true
   },
   "outputs": [
    {
     "name": "stdout",
     "output_type": "stream",
     "text": [
      "1625\n",
      "match\n"
     ]
    }
   ],
   "source": [
    "cp_df.len_dest('train', images_dest, label_dest)"
   ]
  },
  {
   "cell_type": "code",
   "execution_count": 134,
   "metadata": {},
   "outputs": [
    {
     "name": "stdout",
     "output_type": "stream",
     "text": [
      "1819\n",
      "match\n"
     ]
    }
   ],
   "source": [
    "cp_df.len_dest('val', images_dest, label_dest)"
   ]
  },
  {
   "cell_type": "code",
   "execution_count": null,
   "metadata": {},
   "outputs": [],
   "source": []
  }
 ],
 "metadata": {
  "kernelspec": {
   "display_name": "Python 3",
   "language": "python",
   "name": "python3"
  },
  "language_info": {
   "codemirror_mode": {
    "name": "ipython",
    "version": 3
   },
   "file_extension": ".py",
   "mimetype": "text/x-python",
   "name": "python",
   "nbconvert_exporter": "python",
   "pygments_lexer": "ipython3",
   "version": "3.6.10"
  }
 },
 "nbformat": 4,
 "nbformat_minor": 4
}
